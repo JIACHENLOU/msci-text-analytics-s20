{
 "cells": [
  {
   "cell_type": "code",
   "execution_count": 1,
   "metadata": {},
   "outputs": [],
   "source": [
    "from tqdm import tqdm\n",
    "import random\n",
    "import string"
   ]
  },
  {
   "cell_type": "code",
   "execution_count": 2,
   "metadata": {},
   "outputs": [],
   "source": [
    "# open data files and convert into lowercase\n",
    "with open('/Users/Janice/Desktop/MSCI641/neg.txt') as n:\n",
    "    neg = n.readlines()\n",
    "with open('/Users/Janice/Desktop/MSCI641/pos.txt') as p:\n",
    "    pos = p.readlines()\n",
    "all_txt = neg + pos\n",
    "\n",
    "lower = []\n",
    "for i in all_txt:\n",
    "  lower.append(i.lower())"
   ]
  },
  {
   "cell_type": "code",
   "execution_count": 3,
   "metadata": {},
   "outputs": [],
   "source": [
    "# download stopwords online\n",
    "stop_words = ['i', 'me', 'my', 'myself', 'we', 'our', 'ours', 'ourselves', 'you', \"you're\", \"you've\", \"you'll\", \"you'd\", 'your', 'yours', 'yourself', 'yourselves', 'he', 'him', 'his', 'himself', 'she', \"she's\", 'her', 'hers', 'herself', 'it', \"it's\", 'its', 'itself', 'they', 'them', 'their', 'theirs', 'themselves', 'what', 'which', 'who', 'whom', 'this', 'that', \"that'll\", 'these', 'those', 'am', 'is', 'are', 'was', 'were', 'be', 'been', 'being', 'have', 'has', 'had', 'having', 'do', 'does', 'did', 'doing', 'a', 'an', 'the', 'and', 'but', 'if', 'or', 'because', 'as', 'until', 'while', 'of', 'at', 'by', 'for', 'with', 'about', 'against', 'between', 'into', 'through', 'during', 'before', 'after', 'above', 'below', 'to', 'from', 'up', 'down', 'in', 'out', 'on', 'off', 'over', 'under', 'again', 'further', 'then', 'once', 'here', 'there', 'when', 'where', 'why', 'how', 'all', 'any', 'both', 'each', 'few', 'more', 'most', 'other', 'some', 'such', 'no', 'nor', 'not', 'only', 'own', 'same', 'so', 'than', 'too', 'very', 's', 't', 'can', 'will', 'just', 'don', \"don't\", 'should', \"should've\", 'now', 'd', 'll', 'm', 'o', 're', 've', 'y', 'ain', 'aren', \"aren't\", 'couldn', \"couldn't\", 'didn', \"didn't\", 'doesn', \"doesn't\", 'hadn', \"hadn't\", 'hasn', \"hasn't\", 'haven', \"haven't\", 'isn', \"isn't\", 'ma', 'mightn', \"mightn't\", 'mustn', \"mustn't\", 'needn', \"needn't\", 'shan', \"shan't\", 'shouldn', \"shouldn't\", 'wasn', \"wasn't\", 'weren', \"weren't\", 'won', \"won't\", 'wouldn', \"wouldn't\"]"
   ]
  },
  {
   "cell_type": "code",
   "execution_count": 4,
   "metadata": {},
   "outputs": [
    {
     "data": {
      "text/plain": [
       "['i bought this when i bought the pop maker\\n',\n",
       " 'as for pop embellishing well that wasnt too hard to figure out either\\n',\n",
       " 'id save the money and spend it instead on extra pop sticks which seem to disappear the way socks do\\n',\n",
       " 'didnt really care many of the cakes at all\\n',\n",
       " 'not up to normal standing for wilton yearbooks of the past\\n']"
      ]
     },
     "execution_count": 4,
     "metadata": {},
     "output_type": "execute_result"
    }
   ],
   "source": [
    "# remove special characters from data\n",
    "no_special_characters = []\n",
    "\n",
    "for i in lower:\n",
    "  no_special_characters.append(i.translate(str.maketrans('','', string.punctuation)))\n",
    "no_special_characters[:5]"
   ]
  },
  {
   "cell_type": "code",
   "execution_count": 5,
   "metadata": {},
   "outputs": [],
   "source": [
    "# define a function to remove stopwords\n",
    "def remove_words(file, stopwords):\n",
    "    no_stopwords = []\n",
    "    \n",
    "    for line in file:\n",
    "        split_word = line.split(\" \")\n",
    "        for i in range(len(split_word)):\n",
    "            if split_word[i] in stopwords:\n",
    "                split_word[i] = \"\"\n",
    "                \n",
    "        filtered_line = \" \".join(split_word)\n",
    "        filtered_line = filtered_line.replace(\"  \", \" \")\n",
    "        \n",
    "        no_stopwords.append(filtered_line)\n",
    "        \n",
    "    return no_stopwords\n",
    "\n",
    "# split each sentence into words\n",
    "# if a word is in the stopwords lists, replace it with \"\"\n",
    "# join the list of words, form filtered sentences "
   ]
  },
  {
   "cell_type": "code",
   "execution_count": 6,
   "metadata": {},
   "outputs": [
    {
     "data": {
      "text/plain": [
       "800000"
      ]
     },
     "execution_count": 6,
     "metadata": {},
     "output_type": "execute_result"
    }
   ],
   "source": [
    "total_sentence = len(no_special_characters)\n",
    "total_sentence"
   ]
  },
  {
   "cell_type": "code",
   "execution_count": 7,
   "metadata": {},
   "outputs": [
    {
     "name": "stderr",
     "output_type": "stream",
     "text": [
      "800000it [00:02, 292680.09it/s]\n",
      "800000it [00:02, 395572.58it/s]\n"
     ]
    }
   ],
   "source": [
    "# with stopwords \n",
    "# split data into 3 sets\n",
    "csv_data = ''\n",
    "train = ''\n",
    "val = ''\n",
    "test = ''\n",
    "\n",
    "train_size = int(0.8*total_sentence)\n",
    "val_size = int(0.1*total_sentence)\n",
    "\n",
    "random.shuffle(no_special_characters)\n",
    "\n",
    "\n",
    "# tokenized corpus, include stopwords, create csv files\n",
    "for idx, sentence in tqdm(enumerate(no_special_characters)):\n",
    "    sentence = sentence.strip().split()\n",
    "    csv_sentence = '{}\\n'.format(','.join(sentence))\n",
    "    csv_data += csv_sentence\n",
    "    \n",
    "    if idx < train_size:\n",
    "        train += csv_sentence\n",
    "    elif idx >= train_size and idx < (train_size + val_size):\n",
    "        val += csv_sentence \n",
    "    else:\n",
    "        test += csv_sentence \n",
    "        \n",
    "\n",
    "# without stopwords \n",
    "# remove stopwords\n",
    "no_stopwords_file = remove_words(no_special_characters, stop_words)\n",
    "total_no_stopwords = len(no_stopwords_file)\n",
    "\n",
    "# split data into 3 sets\n",
    "csv_data2 = ''\n",
    "train2 = ''\n",
    "val2 = ''\n",
    "test2 = ''\n",
    "\n",
    "train_size2 = int(0.8*total_no_stopwords)\n",
    "val_size2 = int(0.1*total_no_stopwords)\n",
    "\n",
    "# tokenized corpus, without stopwords, create csv files\n",
    "for idx, sentence in tqdm(enumerate(no_stopwords_file)):\n",
    "    sentence = sentence.strip().split()\n",
    "    csv_sentence2 = '{}\\n'.format(','.join(sentence))\n",
    "    csv_data2 += csv_sentence2\n",
    "    \n",
    "    if idx < train_size2:\n",
    "        train2 += csv_sentence2\n",
    "    elif idx >= train_size2 and idx < (train_size2 + val_size2):\n",
    "        val2 += csv_sentence2 \n",
    "    else:\n",
    "        test2 += csv_sentence2"
   ]
  },
  {
   "cell_type": "code",
   "execution_count": 10,
   "metadata": {},
   "outputs": [],
   "source": [
    "with open('out_w.csv', 'w') as f:\n",
    "    f.write(csv_data)\n",
    "with open('train_w.csv', 'w') as f:\n",
    "    f.write(train)\n",
    "with open('val_w.csv', 'w') as f:\n",
    "    f.write(val)\n",
    "with open('test_w.csv', 'w') as f:\n",
    "    f.write(test)\n",
    "with open('out_without.csv', 'w') as f:\n",
    "    f.write(csv_data2)\n",
    "with open('train_without.csv', 'w') as f:\n",
    "    f.write(train2)\n",
    "with open('val_without.csv', 'w') as f:\n",
    "    f.write(val2)\n",
    "with open('test_without.csv', 'w') as f:\n",
    "    f.write(test2)"
   ]
  },
  {
   "cell_type": "code",
   "execution_count": null,
   "metadata": {},
   "outputs": [],
   "source": []
  }
 ],
 "metadata": {
  "kernelspec": {
   "display_name": "Python 3",
   "language": "python",
   "name": "python3"
  },
  "language_info": {
   "codemirror_mode": {
    "name": "ipython",
    "version": 3
   },
   "file_extension": ".py",
   "mimetype": "text/x-python",
   "name": "python",
   "nbconvert_exporter": "python",
   "pygments_lexer": "ipython3",
   "version": "3.7.6"
  }
 },
 "nbformat": 4,
 "nbformat_minor": 4
}
